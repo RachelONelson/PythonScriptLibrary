{
 "cells": [
  {
   "cell_type": "markdown",
   "metadata": {
    "collapsed": true,
    "pycharm": {
     "name": "#%% md\n"
    }
   },
   "source": [
    "# Address Geocoding"
   ]
  },
  {
   "cell_type": "code",
   "execution_count": null,
   "outputs": [],
   "source": [
    "#Import Packages\n",
    "import pandas as pd\n",
    "from geopy.geocoders import Nominatim\n",
    "from geopy.extra.rate_limiter import RateLimiter"
   ],
   "metadata": {
    "collapsed": false,
    "pycharm": {
     "name": "#%%\n"
    }
   }
  },
  {
   "cell_type": "markdown",
   "source": [
    "### Apply Geocoding to an address"
   ],
   "metadata": {
    "collapsed": false
   }
  },
  {
   "cell_type": "code",
   "execution_count": 121,
   "outputs": [
    {
     "name": "stdout",
     "output_type": "stream",
     "text": [
      "Weyerhaeuser Company, 220, Occidental Avenue South, West Edge, International District/Chinatown, Seattle, King County, Washington, 98104, United States\n",
      "(47.6005431, -122.3325752)\n"
     ]
    }
   ],
   "source": [
    "geolocator = Nominatim(timeout=10, user_agent = \"myGeolocator\")\n",
    "location = geolocator.geocode('220 Occidental Ave S, Seattle, WA')\n",
    "print(location)\n",
    "print((location.latitude, location.longitude))"
   ],
   "metadata": {
    "collapsed": false,
    "pycharm": {
     "name": "#%%\n"
    }
   }
  },
  {
   "cell_type": "markdown",
   "source": [
    "### Apply Geocoding to a DataFrame"
   ],
   "metadata": {
    "collapsed": false,
    "pycharm": {
     "name": "#%% md\n"
    }
   }
  },
  {
   "cell_type": "code",
   "execution_count": null,
   "outputs": [],
   "source": [
    "# Load csv with list of addresses, convert street+city+zip into one line\n",
    "df = pd.read_csv('sample_addresses.csv')\n",
    "df['location'] = df.address + ',' + df.city + ',' + df.state\n",
    "df.head(5)"
   ],
   "metadata": {
    "collapsed": false,
    "pycharm": {
     "name": "#%%\n"
    }
   }
  },
  {
   "cell_type": "code",
   "execution_count": 123,
   "outputs": [],
   "source": [
    "#Creating an instance of Nominatim Class\n",
    "geolocator = Nominatim(user_agent=\"my_request\")"
   ],
   "metadata": {
    "collapsed": false,
    "pycharm": {
     "name": "#%%\n"
    }
   }
  },
  {
   "cell_type": "code",
   "execution_count": 124,
   "outputs": [],
   "source": [
    "#applying the rate limiter wrapper\n",
    "geocode = RateLimiter(geolocator.geocode, min_delay_seconds=1)"
   ],
   "metadata": {
    "collapsed": false,
    "pycharm": {
     "name": "#%%\n"
    }
   }
  },
  {
   "cell_type": "code",
   "execution_count": 125,
   "outputs": [
    {
     "data": {
      "text/plain": "               address           city state    zip  \\\n0  4550 Kester Mill Rd  Winston-Salem    NC  27103   \n1     11415 Quaker Ave        Lubbock    TX  79424   \n2   8885 N Florida Ave          Tampa    FL  33604   \n3   16375 Merchants Ln    King George    VA  22485   \n\n                                            location        Lat         Lon  \n0  (Walmart Supercenter, 4550, Kester Mill Road, ...  36.067523  -80.337207  \n1  (Walmart Supercenter, 11415, Quaker Avenue, Lu...  33.489513 -101.901833  \n2  (Walmart Neighborhood Market, 8885, North Flor...  28.032076  -82.457679  \n3                                               None        NaN         NaN  ",
      "text/html": "<div>\n<style scoped>\n    .dataframe tbody tr th:only-of-type {\n        vertical-align: middle;\n    }\n\n    .dataframe tbody tr th {\n        vertical-align: top;\n    }\n\n    .dataframe thead th {\n        text-align: right;\n    }\n</style>\n<table border=\"1\" class=\"dataframe\">\n  <thead>\n    <tr style=\"text-align: right;\">\n      <th></th>\n      <th>address</th>\n      <th>city</th>\n      <th>state</th>\n      <th>zip</th>\n      <th>location</th>\n      <th>Lat</th>\n      <th>Lon</th>\n    </tr>\n  </thead>\n  <tbody>\n    <tr>\n      <th>0</th>\n      <td>4550 Kester Mill Rd</td>\n      <td>Winston-Salem</td>\n      <td>NC</td>\n      <td>27103</td>\n      <td>(Walmart Supercenter, 4550, Kester Mill Road, ...</td>\n      <td>36.067523</td>\n      <td>-80.337207</td>\n    </tr>\n    <tr>\n      <th>1</th>\n      <td>11415 Quaker Ave</td>\n      <td>Lubbock</td>\n      <td>TX</td>\n      <td>79424</td>\n      <td>(Walmart Supercenter, 11415, Quaker Avenue, Lu...</td>\n      <td>33.489513</td>\n      <td>-101.901833</td>\n    </tr>\n    <tr>\n      <th>2</th>\n      <td>8885 N Florida Ave</td>\n      <td>Tampa</td>\n      <td>FL</td>\n      <td>33604</td>\n      <td>(Walmart Neighborhood Market, 8885, North Flor...</td>\n      <td>28.032076</td>\n      <td>-82.457679</td>\n    </tr>\n    <tr>\n      <th>3</th>\n      <td>16375 Merchants Ln</td>\n      <td>King George</td>\n      <td>VA</td>\n      <td>22485</td>\n      <td>None</td>\n      <td>NaN</td>\n      <td>NaN</td>\n    </tr>\n  </tbody>\n</table>\n</div>"
     },
     "execution_count": 125,
     "metadata": {},
     "output_type": "execute_result"
    }
   ],
   "source": [
    "#Applying the method to pandas DataFrame\n",
    "df['location'] = df['location'].apply(geocode)\n",
    "df['Lat'] = df['location'].apply(lambda x: x.latitude if x else None)\n",
    "df['Lon'] = df['location'].apply(lambda x: x.longitude if x else None)\n",
    "\n",
    "df\n"
   ],
   "metadata": {
    "collapsed": false,
    "pycharm": {
     "name": "#%%\n"
    }
   }
  }
 ],
 "metadata": {
  "kernelspec": {
   "display_name": "Python 3",
   "language": "python",
   "name": "python3"
  },
  "language_info": {
   "codemirror_mode": {
    "name": "ipython",
    "version": 2
   },
   "file_extension": ".py",
   "mimetype": "text/x-python",
   "name": "python",
   "nbconvert_exporter": "python",
   "pygments_lexer": "ipython2",
   "version": "2.7.6"
  }
 },
 "nbformat": 4,
 "nbformat_minor": 0
}